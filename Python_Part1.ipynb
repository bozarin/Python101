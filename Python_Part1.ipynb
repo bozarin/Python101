{
  "nbformat": 4,
  "nbformat_minor": 0,
  "metadata": {
    "colab": {
      "name": "PG1926-Day1.ipynb",
      "provenance": [],
      "collapsed_sections": [
        "IdTKuqyFmCN9"
      ],
      "include_colab_link": true
    },
    "kernelspec": {
      "display_name": "Python 3",
      "language": "python",
      "name": "python3"
    },
    "language_info": {
      "codemirror_mode": {
        "name": "ipython",
        "version": 3
      },
      "file_extension": ".py",
      "mimetype": "text/x-python",
      "name": "python",
      "nbconvert_exporter": "python",
      "pygments_lexer": "ipython3",
      "version": "3.7.4"
    }
  },
  "cells": [
    {
      "cell_type": "markdown",
      "metadata": {
        "id": "view-in-github",
        "colab_type": "text"
      },
      "source": [
        "<a href=\"https://colab.research.google.com/github/mavideniz/PG1926/blob/main/PG1926_Day1.ipynb\" target=\"_parent\"><img src=\"https://colab.research.google.com/assets/colab-badge.svg\" alt=\"Open In Colab\"/></a>"
      ]
    },
    {
      "cell_type": "markdown",
      "metadata": {
        "id": "2Q1wEAMJhAcV"
      },
      "source": [
        "### Versiyon Kontrolü\r\n"
      ]
    },
    {
      "cell_type": "code",
      "metadata": {
        "id": "pHxZk2qOhAcV"
      },
      "source": [
        "!python --version"
      ],
      "execution_count": null,
      "outputs": []
    },
    {
      "cell_type": "markdown",
      "metadata": {
        "id": "iWHzxrdvXU0-"
      },
      "source": [
        " ### Her yazılım dilinin ilk adımı \"Hello World!\"\r\n",
        " ![Image of Yaktocat](https://yavuzyalcintas.com/wp-content/uploads/2020/08/hello-world.png)"
      ]
    },
    {
      "cell_type": "code",
      "metadata": {
        "id": "NGB3j3LcdcbR",
        "scrolled": true
      },
      "source": [
        "print(\"Hello World!\")"
      ],
      "execution_count": null,
      "outputs": []
    },
    {
      "cell_type": "code",
      "metadata": {
        "id": "luSgefSQgFrV"
      },
      "source": [
        "print('Hello World')"
      ],
      "execution_count": null,
      "outputs": []
    },
    {
      "cell_type": "code",
      "metadata": {
        "id": "g_52IrQIgcPv"
      },
      "source": [
        "print(\"Hello1\")\n",
        "print(\"Hello2\")\n",
        "print(\"Hello3\")\n",
        "print(\"Welcome to PG1926\")"
      ],
      "execution_count": null,
      "outputs": []
    },
    {
      "cell_type": "code",
      "metadata": {
        "id": "2ualX2qpg3Hy"
      },
      "source": [
        "print \"Hello World\""
      ],
      "execution_count": null,
      "outputs": []
    },
    {
      "cell_type": "code",
      "metadata": {
        "id": "0BOHOWOdhcgp"
      },
      "source": [
        "print(Hello)"
      ],
      "execution_count": null,
      "outputs": []
    },
    {
      "cell_type": "code",
      "metadata": {
        "id": "G69sCzFUhi5j"
      },
      "source": [
        "print(\"Hello')"
      ],
      "execution_count": null,
      "outputs": []
    },
    {
      "cell_type": "markdown",
      "metadata": {
        "id": "aWYakJiQhAcV"
      },
      "source": [
        "### Yorum Satırı\r\n"
      ]
    },
    {
      "cell_type": "code",
      "metadata": {
        "id": "JsFmw9IuFSKR"
      },
      "source": [
        "#taking some notes \n",
        "#taking some notes\n",
        "#take a note"
      ],
      "execution_count": null,
      "outputs": []
    },
    {
      "cell_type": "code",
      "metadata": {
        "id": "llzXRK61FadN"
      },
      "source": [
        "\n",
        "'''Michael Irwin Jordan is an American scientist, professor at the University of California, \n",
        "Berkeley and researcher in machine learning, statistics, and artificial intelligence.\n",
        "He is one of the leading figures in machine learning, \n",
        "and in 2016 Science reported him as the world's most influential computer scientist.\n",
        "'''.replace(\"\\n\",\" \")\n"
      ],
      "execution_count": null,
      "outputs": []
    },
    {
      "cell_type": "code",
      "metadata": {
        "id": "gs7XpZNIhAcW"
      },
      "source": [
        "\n",
        "\"\"\"\n",
        "write something\n",
        "\"\"\"\n"
      ],
      "execution_count": null,
      "outputs": []
    },
    {
      "cell_type": "markdown",
      "metadata": {
        "id": "TwLBhEjAhAcW"
      },
      "source": [
        "### Değişken Tanımlama\n",
        "\n",
        "* variable = value\n",
        "\n",
        "* n = 5"
      ]
    },
    {
      "cell_type": "code",
      "metadata": {
        "id": "Sb178VuUloLP",
        "scrolled": true
      },
      "source": [
        "n = 1 \n",
        "print(n)"
      ],
      "execution_count": null,
      "outputs": []
    },
    {
      "cell_type": "code",
      "metadata": {
        "id": "18yuPbb5m9GG"
      },
      "source": [
        "p = n\n",
        "print(p)"
      ],
      "execution_count": null,
      "outputs": []
    },
    {
      "cell_type": "markdown",
      "metadata": {
        "id": "WG8myBdPhAcX"
      },
      "source": [
        "### Veri Tipleri\n",
        "* Integer (Tam sayı)\n",
        "* Float (Kayar noktalı sayı)\n",
        "* String (Karakter dizisi)\n",
        "* Boolean\n",
        "* Complex (Karmaşık sayılar)\n",
        "* List (Liste)\n",
        "* Dictionary (Sözlük)\n",
        "* Tuple (Demet)\n",
        "* Set (Küme)\n"
      ]
    },
    {
      "cell_type": "code",
      "metadata": {
        "id": "GO6WONnhnVjB"
      },
      "source": [
        "#String\n",
        "hello = \"World\""
      ],
      "execution_count": null,
      "outputs": []
    },
    {
      "cell_type": "code",
      "metadata": {
        "id": "2YZLBCcinyfx"
      },
      "source": [
        "print(hello) #print variable\n",
        "print(\"World\") #print value\n",
        "print(n)"
      ],
      "execution_count": null,
      "outputs": []
    },
    {
      "cell_type": "code",
      "metadata": {
        "id": "SUUJq6chhAcY"
      },
      "source": [
        "#type() \n",
        "type(hello)"
      ],
      "execution_count": null,
      "outputs": []
    },
    {
      "cell_type": "code",
      "metadata": {
        "id": "letAfxW_oHH-"
      },
      "source": [
        "print(type(hello)) #print data type"
      ],
      "execution_count": null,
      "outputs": []
    },
    {
      "cell_type": "code",
      "metadata": {
        "id": "o6zYYebwhAcY"
      },
      "source": [
        "#Integer\n",
        "int_value = 5\n",
        "int_value"
      ],
      "execution_count": null,
      "outputs": []
    },
    {
      "cell_type": "code",
      "metadata": {
        "id": "lQcQh8oMomlP"
      },
      "source": [
        "print(type(int_value))"
      ],
      "execution_count": null,
      "outputs": []
    },
    {
      "cell_type": "code",
      "metadata": {
        "id": "FMM4y1JXMjsL"
      },
      "source": [
        "t = 3.19\n",
        "print(type(t))"
      ],
      "execution_count": null,
      "outputs": []
    },
    {
      "cell_type": "code",
      "metadata": {
        "id": "hfJLQQPihAcZ"
      },
      "source": [
        "type('x')"
      ],
      "execution_count": null,
      "outputs": []
    },
    {
      "cell_type": "code",
      "metadata": {
        "id": "7DtsrxEHyHUH"
      },
      "source": [
        "#Boolean\n",
        "t, f = True, False\n",
        "print(type(t))\n",
        "print(t)\n",
        "print(f)"
      ],
      "execution_count": null,
      "outputs": []
    },
    {
      "cell_type": "code",
      "metadata": {
        "id": "VOFssaJZhAcZ"
      },
      "source": [
        "#swapping\n",
        "data1 = 7 \n",
        "data2 = 12\n",
        "data3 = 23\n",
        "data4 = 33\n",
        "\n",
        "data1, data2, data3 , data4 = data2 , data1, data4, data3\n",
        "print(data1, data2, data3, data4)"
      ],
      "execution_count": null,
      "outputs": []
    },
    {
      "cell_type": "code",
      "metadata": {
        "id": "KDP17P0zhAcZ"
      },
      "source": [
        "print(\"data1:\", data1, \"data:\", data2)"
      ],
      "execution_count": null,
      "outputs": []
    },
    {
      "cell_type": "code",
      "metadata": {
        "id": "vRQDCHxLhAca"
      },
      "source": [
        "metin = \"\"\"Lorem ipsum dolor sit amet, consectetur adipiscing elit, sed do eiusmod tempor incididunt ut labore et dolore magna aliqua. Ut enim ad minim veniam, quis nostrud exercitation ullamco laboris nisi ut aliquip ex ea commodo consequat. Duis aute irure dolor in reprehenderit in voluptate velit esse cillum dolore eu fugiat nulla pariatur. Excepteur sint occaecat cupidatat non proident, sunt in culpa qui officia deserunt mollit anim id est laborum.\"\n",
        "\n",
        "Section 1.10.32 of \"de Finibus Bonorum et Malorum\", written by Cicero in 45 BC\n",
        "\"Sed ut perspiciatis unde omnis iste natus error sit voluptatem accusantium doloremque laudantium, totam rem aperiam, eaque ipsa quae ab illo inventore veritatis et quasi architecto beatae vitae dicta sunt explicabo. Nemo enim ipsam voluptatem quia voluptas sit aspernatur aut odit aut fugit, sed quia consequuntur magni dolores eos qui ratione voluptatem sequi nesciunt. Neque porro quisquam est, qui dolorem ipsum quia dolor sit amet, consectetur, adipisci velit, sed quia non numquam eius modi tempora incidunt ut labore et dolore magnam aliquam quaerat voluptatem. Ut enim ad minima veniam, quis nostrum exercitationem ullam corporis suscipit laboriosam, nisi ut aliquid ex ea commodi consequatur? Quis autem vel eum iure reprehenderit qui in ea voluptate velit esse quam nihil molestiae consequatur, vel illum qui dolorem eum fugiat quo voluptas nulla pariatur?\"\n",
        "\n",
        "1914 translation by H. Rackham\n",
        "\"But I must explain to you how all this mistaken idea of denouncing pleasure and praising pain was born and I will give you a complete account of the system, and expound the actual teachings of the great explorer of the truth, the master-builder of human happiness. No one rejects, dislikes, or avoids pleasure itself, because it is pleasure, but because those who do not know how to pursue pleasure rationally encounter consequences that are extremely painful. Nor again is there anyone who loves or pursues or desires to obtain pain of itself, because it is pain, but because occasionally circumstances occur in which toil and pain can procure him some great pleasure. To take a trivial example, which of us ever undertakes laborious physical exercise, except to obtain some advantage from it? But who has any right to find fault with a man who chooses to enjoy a pleasure that has no annoying consequences, or one who avoids a pain that produces no resultant pleasure?\"\"\""
      ],
      "execution_count": null,
      "outputs": []
    },
    {
      "cell_type": "code",
      "metadata": {
        "id": "h1UFC3ARhAca"
      },
      "source": [
        "len(metin)"
      ],
      "execution_count": null,
      "outputs": []
    },
    {
      "cell_type": "code",
      "metadata": {
        "id": "UleuXLMVwCgG"
      },
      "source": [
        "print(len(metin)) #print data length "
      ],
      "execution_count": null,
      "outputs": []
    },
    {
      "cell_type": "code",
      "metadata": {
        "id": "8JIXMfUVhAcb"
      },
      "source": [
        "len(5)"
      ],
      "execution_count": null,
      "outputs": []
    },
    {
      "cell_type": "code",
      "metadata": {
        "id": "xD-DL1OUhAcb"
      },
      "source": [
        "len(15.6)"
      ],
      "execution_count": null,
      "outputs": []
    },
    {
      "cell_type": "code",
      "metadata": {
        "id": "EjtEb3GDhAcc"
      },
      "source": [
        "a = 15\n",
        "b = 23\n",
        "\n",
        "a, b = b, a\n",
        "print(a)\n",
        "print(b)"
      ],
      "execution_count": null,
      "outputs": []
    },
    {
      "cell_type": "code",
      "metadata": {
        "id": "cD0F7XrOhAcc"
      },
      "source": [
        "data12 = 5\n",
        "data13 = 90\n",
        "print(\"My value:{} and Your value:{}\".format(data12, data13))"
      ],
      "execution_count": null,
      "outputs": []
    },
    {
      "cell_type": "markdown",
      "metadata": {
        "id": "rOEAqInQGFVu"
      },
      "source": [
        "### Aritmetik Operatörler"
      ]
    },
    {
      "cell_type": "code",
      "metadata": {
        "id": "OQzlT59exPuY"
      },
      "source": [
        "#Üslü ifadeler\n",
        "5**2"
      ],
      "execution_count": null,
      "outputs": []
    },
    {
      "cell_type": "code",
      "metadata": {
        "id": "OyW_9a9fhAcf"
      },
      "source": [
        "5**3"
      ],
      "execution_count": null,
      "outputs": []
    },
    {
      "cell_type": "code",
      "metadata": {
        "id": "IT5uTIgBGRIz"
      },
      "source": [
        "35+67"
      ],
      "execution_count": null,
      "outputs": []
    },
    {
      "cell_type": "code",
      "metadata": {
        "id": "UIwXGkZqGVId"
      },
      "source": [
        "\"35\"+\"67\""
      ],
      "execution_count": null,
      "outputs": []
    },
    {
      "cell_type": "code",
      "metadata": {
        "id": "y0RFHDpZhAcf"
      },
      "source": [
        "\"PG\" + \"1926\""
      ],
      "execution_count": null,
      "outputs": []
    },
    {
      "cell_type": "code",
      "metadata": {
        "id": "Qx0vjBUmGZNk"
      },
      "source": [
        "\"35\" + 67 "
      ],
      "execution_count": null,
      "outputs": []
    },
    {
      "cell_type": "code",
      "metadata": {
        "id": "_EzMFsTMGbw5"
      },
      "source": [
        "\"35\"*3 "
      ],
      "execution_count": null,
      "outputs": []
    },
    {
      "cell_type": "code",
      "metadata": {
        "id": "X_FiEHA9GlUH"
      },
      "source": [
        "\"hello\"*4"
      ],
      "execution_count": null,
      "outputs": []
    },
    {
      "cell_type": "code",
      "metadata": {
        "id": "zVujz21ZhAcg"
      },
      "source": [
        "\"hello\" \"world\""
      ],
      "execution_count": null,
      "outputs": []
    },
    {
      "cell_type": "code",
      "metadata": {
        "id": "qCIBU4v8HH3Y"
      },
      "source": [
        "x = 10\n",
        "\n",
        "print(x+2)\n",
        "print(x-2)\n",
        "print(x*2)\n",
        "print(x**2)\n",
        "print(x**4)\n",
        "print(x/2)\n",
        "print(x//2) \n",
        "print(x%2) "
      ],
      "execution_count": null,
      "outputs": []
    },
    {
      "cell_type": "code",
      "metadata": {
        "id": "imzLVXBYLNhW"
      },
      "source": [
        "y = 13\n",
        "print(y/2)\n",
        "print(y//2)\n",
        "print(y % 2)"
      ],
      "execution_count": null,
      "outputs": []
    },
    {
      "cell_type": "code",
      "metadata": {
        "id": "nr-s8OwrhAch"
      },
      "source": [
        "z= 5\n",
        "z +=2 #z = z + 2\n",
        "z"
      ],
      "execution_count": null,
      "outputs": []
    },
    {
      "cell_type": "code",
      "metadata": {
        "id": "2HOE_xOGL3WQ"
      },
      "source": [
        "z*=2      # z = z * 2\n",
        "z"
      ],
      "execution_count": null,
      "outputs": []
    },
    {
      "cell_type": "markdown",
      "metadata": {
        "id": "IdTKuqyFmCN9"
      },
      "source": [
        "### Tür Dönüşümleri\n",
        "* str() \n",
        "* float() \n",
        "* int()"
      ]
    },
    {
      "cell_type": "code",
      "metadata": {
        "id": "sYFsQbIamCN-"
      },
      "source": [
        "str(\"Python\")"
      ],
      "execution_count": null,
      "outputs": []
    },
    {
      "cell_type": "code",
      "metadata": {
        "id": "zBJuLanemCN-"
      },
      "source": [
        "float(5)"
      ],
      "execution_count": null,
      "outputs": []
    },
    {
      "cell_type": "code",
      "metadata": {
        "id": "Exznao8bmCN-"
      },
      "source": [
        "type(5.0)"
      ],
      "execution_count": null,
      "outputs": []
    },
    {
      "cell_type": "code",
      "metadata": {
        "id": "XVv7MCTVmCN-"
      },
      "source": [
        "int(float(5.7))"
      ],
      "execution_count": null,
      "outputs": []
    },
    {
      "cell_type": "code",
      "metadata": {
        "id": "AZm-mbcmmCN_"
      },
      "source": [
        "float(\"6.2\")"
      ],
      "execution_count": null,
      "outputs": []
    },
    {
      "cell_type": "code",
      "metadata": {
        "id": "yZRZLgscmCN_"
      },
      "source": [
        "float(\"Hello\")"
      ],
      "execution_count": null,
      "outputs": []
    },
    {
      "cell_type": "code",
      "metadata": {
        "id": "QNftrnEfmCN_"
      },
      "source": [
        "int(5.5)"
      ],
      "execution_count": null,
      "outputs": []
    },
    {
      "cell_type": "markdown",
      "metadata": {
        "id": "0txXkvbamCN_"
      },
      "source": [
        "### İndexleme ve Dilimleme"
      ]
    },
    {
      "cell_type": "code",
      "metadata": {
        "id": "vZjNAoLVR5U0"
      },
      "source": [
        "hello = \"Hello\"\n",
        "print(hello)\n",
        "print(hello[0])\n",
        "print(hello[1])\n",
        "print(hello[2])\n",
        "print(hello[3])\n",
        "print(hello[4])"
      ],
      "execution_count": null,
      "outputs": []
    },
    {
      "cell_type": "code",
      "metadata": {
        "id": "HQoj_jsUmCOA"
      },
      "source": [
        "hello2 = \" Hello\"\n",
        "hello2[0]"
      ],
      "execution_count": null,
      "outputs": []
    },
    {
      "cell_type": "code",
      "metadata": {
        "id": "3CUMwNM_mCOA"
      },
      "source": [
        "print(hello[5])"
      ],
      "execution_count": null,
      "outputs": []
    },
    {
      "cell_type": "code",
      "metadata": {
        "id": "0zG_UBbW_SFu"
      },
      "source": [
        "job = \" Engineering\"\n",
        "\n",
        "print(job[-5])"
      ],
      "execution_count": null,
      "outputs": []
    },
    {
      "cell_type": "code",
      "metadata": {
        "id": "Scvqz7-FmCOB"
      },
      "source": [
        "print(hello)"
      ],
      "execution_count": null,
      "outputs": []
    },
    {
      "cell_type": "code",
      "metadata": {
        "id": "uTZeixoumCOB"
      },
      "source": [
        "hello"
      ],
      "execution_count": null,
      "outputs": []
    },
    {
      "cell_type": "code",
      "metadata": {
        "id": "1gW2be5tWek7"
      },
      "source": [
        "hello[2:4]  # [x:y] --> x elemanını dahil eder fakat y elemanını dahil etmez."
      ],
      "execution_count": null,
      "outputs": []
    },
    {
      "cell_type": "code",
      "metadata": {
        "id": "4d12Mq3n03zL"
      },
      "source": [
        "hello[::-1] "
      ],
      "execution_count": null,
      "outputs": []
    },
    {
      "cell_type": "code",
      "metadata": {
        "id": "XxKt6pqvmCOC"
      },
      "source": [
        "world"
      ],
      "execution_count": null,
      "outputs": []
    },
    {
      "cell_type": "code",
      "metadata": {
        "id": "3hrKJQS2a6A5"
      },
      "source": [
        "world[2:4:1]   # [start:end:step]"
      ],
      "execution_count": null,
      "outputs": []
    },
    {
      "cell_type": "code",
      "metadata": {
        "id": "1Kgd14H_bNAj"
      },
      "source": [
        "city = \"istanbul\"\n",
        "city[0:6:2]"
      ],
      "execution_count": null,
      "outputs": []
    },
    {
      "cell_type": "code",
      "metadata": {
        "id": "az6ygCGue2sY"
      },
      "source": [
        "word = 'machine learning'\n",
        "print(word.capitalize())"
      ],
      "execution_count": null,
      "outputs": []
    },
    {
      "cell_type": "code",
      "metadata": {
        "id": "3nF1ST9UfCGu"
      },
      "source": [
        "print(word.upper())"
      ],
      "execution_count": null,
      "outputs": []
    },
    {
      "cell_type": "code",
      "metadata": {
        "id": "9r6KvgMYfiVQ"
      },
      "source": [
        "print(word.replace('machine','artificial'))"
      ],
      "execution_count": null,
      "outputs": []
    },
    {
      "cell_type": "code",
      "metadata": {
        "id": "TjnWT_9Zfs2r"
      },
      "source": [
        "word"
      ],
      "execution_count": null,
      "outputs": []
    },
    {
      "cell_type": "code",
      "metadata": {
        "id": "H1WYJsidfw-G"
      },
      "source": [
        "word2 = \"          artificial general      intelligence\"\n",
        "print(word2.strip())"
      ],
      "execution_count": null,
      "outputs": []
    },
    {
      "cell_type": "code",
      "metadata": {
        "id": "Voc6zKLzhlmv"
      },
      "source": [
        "y = input(\"Please enter a city name: \")  #input methodu değeri her zaman string ifadesi olarak tutar \n",
        "print(y)"
      ],
      "execution_count": null,
      "outputs": []
    },
    {
      "cell_type": "code",
      "metadata": {
        "id": "Wey_2y-3mCOG"
      },
      "source": [
        "type(y)"
      ],
      "execution_count": null,
      "outputs": []
    },
    {
      "cell_type": "code",
      "metadata": {
        "id": "3zyJI9oljhQi"
      },
      "source": [
        "x = int(input(\"Please enter an integer: \"))\n",
        "print(x)"
      ],
      "execution_count": null,
      "outputs": []
    },
    {
      "cell_type": "code",
      "metadata": {
        "id": "570NLil5mCOH"
      },
      "source": [
        "type(x)"
      ],
      "execution_count": null,
      "outputs": []
    },
    {
      "cell_type": "markdown",
      "metadata": {
        "id": "Uqstf6kg1CCT"
      },
      "source": [
        "### If/Else Durumları\n",
        "\n",
        "if \"condition\":\n",
        "\n",
        "\n",
        "> \"doing sth\"\n",
        "\n",
        "print()\n"
      ]
    },
    {
      "cell_type": "code",
      "metadata": {
        "id": "8E_cCL6adJSR"
      },
      "source": [
        "ort = input('Ortalamanızı Girin : ')\r\n",
        "if(int(ort)>=50):\r\n",
        "      print(\"Geçtiniz\")\r\n",
        "else:\r\n",
        "      print(\"Kaldınız\")"
      ],
      "execution_count": null,
      "outputs": []
    },
    {
      "cell_type": "code",
      "metadata": {
        "id": "aQww_2VKeWbd"
      },
      "source": [
        "sayi = input('Sayı : ')\r\n",
        "if(int(sayi)%2==0):\r\n",
        "      print(\"Sayı Çift\")\r\n",
        "else:\r\n",
        "      print(\"Sayı Tek\")"
      ],
      "execution_count": null,
      "outputs": []
    },
    {
      "cell_type": "code",
      "metadata": {
        "id": "1gdtAyGZ1MTD"
      },
      "source": [
        "a = int(input(\"Bir sayı giriniz: \"))\n",
        "\n",
        "if a < 100:\n",
        "    print(\"verdiğiniz sayı 100'den küçüktür.\")\n",
        "\n",
        "elif a < 50:\n",
        "    print(\"verdiğiniz sayı 50'den küçüktür.\")\n",
        "\n",
        "elif a == 100:\n",
        "    print(\"verdiğiniz sayı 100'dür.\")\n",
        "\n",
        "elif a > 150:\n",
        "    print(\"verdiğiniz sayı 150'den büyüktür.\")\n",
        "\n",
        "elif a > 100:\n",
        "    print(\"verdiğiniz sayı 100'den büyüktür.\")"
      ],
      "execution_count": null,
      "outputs": []
    },
    {
      "cell_type": "code",
      "metadata": {
        "id": "3hmeanZ757dR"
      },
      "source": [
        "kullanıcı_adı = input(\"Kullanıcı adınız: \")\n",
        "parola        = input(\"Parolanız       : \")\n",
        "\n",
        "toplam_uzunluk = len(kullanıcı_adı) + len(parola)\n",
        "\n",
        "\n",
        "if toplam_uzunluk > 40:\n",
        "    print(\"Kullanıcı adınız ile parolanızın \",\n",
        "          \"toplam uzunluğu 40 karakteri geçmemeli!\")\n",
        "else:\n",
        "    print(\"Sisteme hoşgeldiniz!\")"
      ],
      "execution_count": null,
      "outputs": []
    },
    {
      "cell_type": "markdown",
      "metadata": {
        "id": "zvyKibr2vVNm"
      },
      "source": [
        "### Liste (list)\r\n",
        "Python list, yani liste, herhangi bir sayıda diğer objeleri içinde bulunduran bir sandık vazifesi görüyor. Diğer dillerdeki listelerden en önemli farkı ise, bir listede birden fazla tip öğenin yanyana bulunabilmesi. Diğer konteynır tarzı objelerden farkı ise, listeler değişebilir (mutable) olması ve sıralı olması diyebiliriz. Diğer konteynırlar nedir derseniz, kümeler (set) ve sözlükler (dict) bunlara örnek olarak gösterilebilir."
      ]
    },
    {
      "cell_type": "code",
      "metadata": {
        "id": "njA7EYZGv07w",
        "scrolled": true
      },
      "source": [
        " # creating a list\n",
        "mylist = [3,5,6,7]\n",
        "print(mylist) "
      ],
      "execution_count": null,
      "outputs": []
    },
    {
      "cell_type": "code",
      "metadata": {
        "id": "MxsQ4t8pmCOI"
      },
      "source": [
        "type(mylist)"
      ],
      "execution_count": null,
      "outputs": []
    },
    {
      "cell_type": "code",
      "metadata": {
        "id": "hQhGEzmPwgQ2"
      },
      "source": [
        "print(mylist[0])\n",
        "print(mylist[2])\n",
        "print(mylist[-1])\n",
        "print(mylist[-3])"
      ],
      "execution_count": null,
      "outputs": []
    },
    {
      "cell_type": "code",
      "metadata": {
        "id": "VQ7gQ-2kmCOI"
      },
      "source": [
        "a = 5\n",
        "print(a)"
      ],
      "execution_count": null,
      "outputs": []
    },
    {
      "cell_type": "code",
      "metadata": {
        "id": "Z0v9ZqhNmCOI"
      },
      "source": [
        "a = 3\n",
        "print(a)"
      ],
      "execution_count": null,
      "outputs": []
    },
    {
      "cell_type": "code",
      "metadata": {
        "id": "ngPWrPA_w3gG"
      },
      "source": [
        "mylist[2] = \"python\"   # listeler farklı veri tiplerini bir arada bulundurabilir.\n",
        "print(mylist)"
      ],
      "execution_count": null,
      "outputs": []
    },
    {
      "cell_type": "code",
      "metadata": {
        "id": "hI6Wz-NWxMuG"
      },
      "source": [
        "mylist.append('course')  # append(): listenin sonuna bir eleman ekler.\n",
        "print(mylist)"
      ],
      "execution_count": null,
      "outputs": []
    },
    {
      "cell_type": "code",
      "metadata": {
        "id": "dqz8xPRgxdHU"
      },
      "source": [
        "mylist = [3,4,5,6,7]\n",
        "mylist.append('course')\n",
        "mylist.append('course')\n",
        "print(mylist)\n",
        "\n",
        "thelast = mylist.pop()  # pop(): listenin sonundaki son elemanı siler.\n",
        "print(thelast)\n",
        "print(mylist)"
      ],
      "execution_count": null,
      "outputs": []
    },
    {
      "cell_type": "code",
      "metadata": {
        "id": "HpPBYsAzmCOJ"
      },
      "source": [
        "mylist"
      ],
      "execution_count": null,
      "outputs": []
    },
    {
      "cell_type": "code",
      "metadata": {
        "id": "Dt0ef3SiyJng"
      },
      "source": [
        "mylist.index(\"course\")"
      ],
      "execution_count": null,
      "outputs": []
    },
    {
      "cell_type": "code",
      "metadata": {
        "id": "r1A4DZ4syQtk"
      },
      "source": [
        "mylist.index(4)"
      ],
      "execution_count": null,
      "outputs": []
    },
    {
      "cell_type": "code",
      "metadata": {
        "id": "iFn2-UYKyWCZ"
      },
      "source": [
        "mylist.count(\"course\")"
      ],
      "execution_count": null,
      "outputs": []
    },
    {
      "cell_type": "code",
      "metadata": {
        "id": "PXBtBlAXmCOK"
      },
      "source": [
        "list2 = [\"Python\",\"Java\",\"R\",\"JavaScript\",\"Ruby\",\"Python\",\"Python\"]\n",
        "list2.count(\"Python\")\n"
      ],
      "execution_count": null,
      "outputs": []
    },
    {
      "cell_type": "code",
      "metadata": {
        "id": "58nCPJ27mCOK"
      },
      "source": [
        "mylist"
      ],
      "execution_count": null,
      "outputs": []
    },
    {
      "cell_type": "code",
      "metadata": {
        "id": "46qXsaPbyowR"
      },
      "source": [
        "mylist.remove(\"course\")\n",
        "print(mylist)"
      ],
      "execution_count": null,
      "outputs": []
    },
    {
      "cell_type": "code",
      "metadata": {
        "id": "UlKtby-1zYVT"
      },
      "source": [
        "mylist.sort()\n",
        "mylist"
      ],
      "execution_count": null,
      "outputs": []
    },
    {
      "cell_type": "code",
      "metadata": {
        "id": "Kdqlr7yQmCOL"
      },
      "source": [
        "list3 = [100,23,87,13,1000]"
      ],
      "execution_count": null,
      "outputs": []
    },
    {
      "cell_type": "code",
      "metadata": {
        "id": "ZECprhx7mCOL"
      },
      "source": [
        "list3.sort()\n",
        "list3"
      ],
      "execution_count": null,
      "outputs": []
    },
    {
      "cell_type": "code",
      "metadata": {
        "id": "cNauyviRmCOL"
      },
      "source": [
        "list4 = [41,23,78,99,37,2.9,2.8]\n",
        "list4.sort()\n",
        "list4"
      ],
      "execution_count": null,
      "outputs": []
    },
    {
      "cell_type": "code",
      "metadata": {
        "id": "6E5ZHeormCOM"
      },
      "source": [
        "list4.remove()\r\n"
      ],
      "execution_count": null,
      "outputs": []
    },
    {
      "cell_type": "code",
      "metadata": {
        "id": "Ks3NHMA_mCOM"
      },
      "source": [
        "list5 = [41,23,78,99,37,'python']\n",
        "list5.sort()\n",
        "list5"
      ],
      "execution_count": null,
      "outputs": []
    },
    {
      "cell_type": "code",
      "metadata": {
        "id": "5lcp5UifmCOM"
      },
      "source": [
        "mylist"
      ],
      "execution_count": null,
      "outputs": []
    },
    {
      "cell_type": "code",
      "metadata": {
        "id": "E26Vtqlyzfal"
      },
      "source": [
        "mylist.remove(\"course\")\n",
        "mylist.remove(\"python\")\n",
        "print(mylist)"
      ],
      "execution_count": null,
      "outputs": []
    },
    {
      "cell_type": "code",
      "metadata": {
        "id": "aSsRxEvPowM-"
      },
      "source": [
        "mylist.remove(\"course\")\n",
        "print(mylist)"
      ],
      "execution_count": null,
      "outputs": []
    },
    {
      "cell_type": "code",
      "metadata": {
        "id": "2pnKy1t7znEH"
      },
      "source": [
        "mylist.sort()\n",
        "mylist"
      ],
      "execution_count": null,
      "outputs": []
    },
    {
      "cell_type": "code",
      "metadata": {
        "id": "06kYH0sqmCON"
      },
      "source": [
        "mylist = [3,4,5,6,7]"
      ],
      "execution_count": null,
      "outputs": []
    },
    {
      "cell_type": "code",
      "metadata": {
        "id": "sjC4_sbzzt0n"
      },
      "source": [
        "mylist.reverse()\n",
        "mylist"
      ],
      "execution_count": null,
      "outputs": []
    },
    {
      "cell_type": "code",
      "metadata": {
        "id": "SDVAJpN3z4md"
      },
      "source": [
        "mylist2 = [\"python\", \"course\", \"hello\"]\n",
        "mylist2.sort()\n",
        "mylist2"
      ],
      "execution_count": null,
      "outputs": []
    },
    {
      "cell_type": "code",
      "metadata": {
        "id": "HyQrtFNwmCON"
      },
      "source": [
        "mylist"
      ],
      "execution_count": null,
      "outputs": []
    },
    {
      "cell_type": "code",
      "metadata": {
        "id": "t8fn5qremCOO"
      },
      "source": [
        "list_in_list = [\"python\",\"Java\",3.2, 4, 11, [5,65,7,8,9]]\n",
        "print(list_in_list[5])"
      ],
      "execution_count": null,
      "outputs": []
    },
    {
      "cell_type": "code",
      "metadata": {
        "id": "sENNgOgYmCOO"
      },
      "source": [
        "list_in_list[-1]"
      ],
      "execution_count": null,
      "outputs": []
    },
    {
      "cell_type": "code",
      "metadata": {
        "id": "32M3RVubmCOO"
      },
      "source": [
        "mylist = [2, 3, 4, 5, 6, 'python', 'flutter', 'Android', 'JavaScript', 'dart', 3.2, 5.0]"
      ],
      "execution_count": null,
      "outputs": []
    },
    {
      "cell_type": "code",
      "metadata": {
        "id": "TrlAuQrZmqPe"
      },
      "source": [
        "numbers2 = list(range(2,15,3)) #range(start, stop, step)\n",
        "print(numbers2)\n",
        "numbers2.reverse()\n",
        "print(numbers2)"
      ],
      "execution_count": null,
      "outputs": []
    },
    {
      "cell_type": "markdown",
      "metadata": {
        "id": "IdVXxCBHJ07g"
      },
      "source": [
        "### Sözlük (dictionary)\n",
        "Sözlükler de Tuple ve List veri türleri gibi farklı veri türleri bulunur fakat sözlükler biraz  farklıdır. Sözlükler süslü parantezler ile ifade edilir ve  iki kısımdan oluşur; keys(anahtar) ve value(değer),  value kısmı bütün veri türünü içerebilir fakat keys kısmı sadece string ve int tipinde olabilir. Sözlüklerde değiştirilebilir veri türü olup ekleme,çıkarma vb. işlemler yapılabilir.\n",
        "\n",
        "\n"
      ]
    },
    {
      "cell_type": "code",
      "metadata": {
        "id": "-fo5_OkfcFz4"
      },
      "source": [
        "d = {}\n",
        "\n",
        "print(d)\n",
        "type(d)"
      ],
      "execution_count": null,
      "outputs": []
    },
    {
      "cell_type": "code",
      "metadata": {
        "id": "n5qcMd-GLsKa"
      },
      "source": [
        "d = {\"python\":1, \"course\":2}\n",
        "print(d)"
      ],
      "execution_count": null,
      "outputs": []
    },
    {
      "cell_type": "code",
      "metadata": {
        "id": "EX9oMWnHL7fq"
      },
      "source": [
        "d2 = {\"machine\":\"learning\", \"artificial\":\"intelligence\" }\n",
        "d2"
      ],
      "execution_count": null,
      "outputs": []
    },
    {
      "cell_type": "code",
      "metadata": {
        "id": "eckt9hWHMKyB"
      },
      "source": [
        "d2[\"artificial\"]"
      ],
      "execution_count": null,
      "outputs": []
    },
    {
      "cell_type": "code",
      "metadata": {
        "id": "P07ODlUDcFz5"
      },
      "source": [
        "d2[\"java\"] = \"programming\"\n",
        "d2"
      ],
      "execution_count": null,
      "outputs": []
    },
    {
      "cell_type": "code",
      "metadata": {
        "id": "aGhqBey1cFz5"
      },
      "source": [
        "d2[\"ruby\"] = \"programming\"\n",
        "d2"
      ],
      "execution_count": null,
      "outputs": []
    },
    {
      "cell_type": "code",
      "metadata": {
        "id": "iwJO06pLcFz6"
      },
      "source": [
        "d2[\"ruby\"] = \"language\"\n",
        "d2"
      ],
      "execution_count": null,
      "outputs": []
    },
    {
      "cell_type": "code",
      "metadata": {
        "id": "V4-QRNaWcFz6"
      },
      "source": [
        "d"
      ],
      "execution_count": null,
      "outputs": []
    },
    {
      "cell_type": "code",
      "metadata": {
        "id": "EtB2gyEmMWjy"
      },
      "source": [
        "d[\"course\"]"
      ],
      "execution_count": null,
      "outputs": []
    },
    {
      "cell_type": "code",
      "metadata": {
        "id": "t2flZAV2NIIq"
      },
      "source": [
        "d2[\"deep\"] = \"learning\"\n",
        "d2"
      ],
      "execution_count": null,
      "outputs": []
    },
    {
      "cell_type": "code",
      "metadata": {
        "id": "ntLDke2enyh6"
      },
      "source": [
        "print(d.keys())"
      ],
      "execution_count": null,
      "outputs": []
    },
    {
      "cell_type": "code",
      "metadata": {
        "id": "y9HV_zWLcFz7"
      },
      "source": [
        "d2.keys()"
      ],
      "execution_count": null,
      "outputs": []
    },
    {
      "cell_type": "code",
      "metadata": {
        "id": "RRCll5K-oEW6"
      },
      "source": [
        "d2.values()"
      ],
      "execution_count": null,
      "outputs": []
    },
    {
      "cell_type": "code",
      "metadata": {
        "id": "YYzF_DyGoHWm"
      },
      "source": [
        "d2.items()"
      ],
      "execution_count": null,
      "outputs": []
    },
    {
      "cell_type": "code",
      "metadata": {
        "id": "fmxKFTs4pqwP"
      },
      "source": [
        "d"
      ],
      "execution_count": null,
      "outputs": []
    },
    {
      "cell_type": "code",
      "metadata": {
        "id": "iy6FAQxHpt6Q"
      },
      "source": [
        "d[\"a\"] = [3,4,5]\n",
        "d"
      ],
      "execution_count": null,
      "outputs": []
    },
    {
      "cell_type": "code",
      "metadata": {
        "id": "AINo_32Upzyv"
      },
      "source": [
        "d.pop(\"python\")\n",
        "d"
      ],
      "execution_count": null,
      "outputs": []
    },
    {
      "cell_type": "code",
      "metadata": {
        "id": "QjErEFgGcFz9"
      },
      "source": [
        "d.pop(\"python\")\n",
        "d"
      ],
      "execution_count": null,
      "outputs": []
    },
    {
      "cell_type": "code",
      "metadata": {
        "id": "nsOgHRxScFz9"
      },
      "source": [
        "d"
      ],
      "execution_count": null,
      "outputs": []
    },
    {
      "cell_type": "code",
      "metadata": {
        "id": "U8QBwgp0sSJi"
      },
      "source": [
        "len(d)"
      ],
      "execution_count": null,
      "outputs": []
    },
    {
      "cell_type": "code",
      "metadata": {
        "id": "89k7tFi_sWJO"
      },
      "source": [
        "\"a\" in d"
      ],
      "execution_count": null,
      "outputs": []
    },
    {
      "cell_type": "code",
      "metadata": {
        "id": "XdyIf0L1sYRM"
      },
      "source": [
        "\"3\" in d #Soru"
      ],
      "execution_count": null,
      "outputs": []
    },
    {
      "cell_type": "code",
      "metadata": {
        "id": "oJvHWYyouN9w"
      },
      "source": [
        "d2"
      ],
      "execution_count": null,
      "outputs": []
    },
    {
      "cell_type": "code",
      "metadata": {
        "id": "wamfJIWHcFz_"
      },
      "source": [
        "d2"
      ],
      "execution_count": null,
      "outputs": []
    },
    {
      "cell_type": "code",
      "metadata": {
        "id": "nyH6npGYuhRD"
      },
      "source": [
        "del d2[\"deep\"]\n",
        "d2"
      ],
      "execution_count": null,
      "outputs": []
    },
    {
      "cell_type": "code",
      "metadata": {
        "id": "VJ1MoCoZcFz_"
      },
      "source": [
        "d2"
      ],
      "execution_count": null,
      "outputs": []
    },
    {
      "cell_type": "code",
      "metadata": {
        "id": "xiSnYPJGcFz_"
      },
      "source": [
        "d2['machine'] = \"Deep Learning\"\n",
        "d2"
      ],
      "execution_count": null,
      "outputs": []
    },
    {
      "cell_type": "code",
      "metadata": {
        "id": "kyINE7YscF0A"
      },
      "source": [
        "d2_copy = d2.copy()\n",
        "d2_copy"
      ],
      "execution_count": null,
      "outputs": []
    },
    {
      "cell_type": "code",
      "metadata": {
        "id": "2YCOmkG8cF0A"
      },
      "source": [
        "d2_copy['deep'] = 'AI'\n",
        "d2_copy"
      ],
      "execution_count": null,
      "outputs": []
    },
    {
      "cell_type": "code",
      "metadata": {
        "id": "b9SRNEShcF0A"
      },
      "source": [
        "d2"
      ],
      "execution_count": null,
      "outputs": []
    },
    {
      "cell_type": "markdown",
      "metadata": {
        "id": "Ak4uMk3pzHZI"
      },
      "source": [
        "### Küme (set)\n",
        "\n",
        "Liste, sözlük ve demet veri türü gibi birden çok veri türünü birlikte barındıran veri tipidir. Kümeler ile ilgili yaptığınız her türlü işlevi(birleşme,kesişim vs.) bu veri tipi ile yapabilirsiniz.\n",
        "\n",
        "\n",
        "\n",
        "\n",
        "\n"
      ]
    },
    {
      "cell_type": "code",
      "metadata": {
        "id": "QgZuDyx3yvn9"
      },
      "source": [
        "s = {\"python\", 5,6,8,5,6,\"abc\", \"python\",\"python\",\"python\",\"python\",\"python\",\"python\",\"python\",\"python\",\"python\"}\n",
        "s"
      ],
      "execution_count": null,
      "outputs": []
    },
    {
      "cell_type": "code",
      "metadata": {
        "id": "KmzyF9b--0Ci"
      },
      "source": [
        "empty = set()\n",
        "type(empty)"
      ],
      "execution_count": null,
      "outputs": []
    },
    {
      "cell_type": "code",
      "metadata": {
        "id": "8qLJrT9VAUvf"
      },
      "source": [
        "empty2 = {}\n",
        "type(empty2)"
      ],
      "execution_count": null,
      "outputs": []
    },
    {
      "cell_type": "code",
      "metadata": {
        "id": "TLu1Ec_bA__q"
      },
      "source": [
        "ne = set(\"pineapple\")\n",
        "print(ne)"
      ],
      "execution_count": null,
      "outputs": []
    },
    {
      "cell_type": "code",
      "metadata": {
        "id": "GUtmrwfhB2mj"
      },
      "source": [
        "6 in s"
      ],
      "execution_count": null,
      "outputs": []
    },
    {
      "cell_type": "code",
      "metadata": {
        "id": "lPvxuypLB4Pg"
      },
      "source": [
        "len(s)"
      ],
      "execution_count": null,
      "outputs": []
    },
    {
      "cell_type": "code",
      "metadata": {
        "id": "wCijI6-vCEj6"
      },
      "source": [
        "s.add(\"ai\")\n",
        "s"
      ],
      "execution_count": null,
      "outputs": []
    },
    {
      "cell_type": "code",
      "metadata": {
        "id": "tPq001PuCLO3"
      },
      "source": [
        "s.add(\"ai\")\n",
        "print(s)\n",
        "len(s)"
      ],
      "execution_count": null,
      "outputs": []
    },
    {
      "cell_type": "code",
      "metadata": {
        "id": "EGZnvf9WCRYk"
      },
      "source": [
        "s2.remove(\"ai\")\n",
        "print(s2)"
      ],
      "execution_count": null,
      "outputs": []
    },
    {
      "cell_type": "markdown",
      "metadata": {
        "id": "sp_E8xAhG21y"
      },
      "source": [
        "# Demet (Tuple)\n",
        "\n",
        "Demetler birden fazla veri türünü bir arada bulundurabilen virgüllerle veya parantez ile gösterilen immutable(değiştirilemeyen) veri tipleridir.\n",
        "\n"
      ]
    },
    {
      "cell_type": "code",
      "metadata": {
        "id": "8Rui2302H8jD"
      },
      "source": [
        "tupl = (1,2,3,4,5)\n",
        "print(tupl)\n",
        "print(type(tupl))"
      ],
      "execution_count": null,
      "outputs": []
    },
    {
      "cell_type": "code",
      "metadata": {
        "id": "wZffTxPsIqqI"
      },
      "source": [
        "tuple2 = ()  \n",
        "type(tuple2)"
      ],
      "execution_count": null,
      "outputs": []
    },
    {
      "cell_type": "code",
      "metadata": {
        "id": "IrvB1HzGLYBZ"
      },
      "source": [
        "print(tupl[3])"
      ],
      "execution_count": null,
      "outputs": []
    },
    {
      "cell_type": "code",
      "metadata": {
        "id": "y_9FkBJORo5y"
      },
      "source": [
        "tupl[-2]"
      ],
      "execution_count": null,
      "outputs": []
    },
    {
      "cell_type": "code",
      "metadata": {
        "id": "ZPMFZi-qRs4a"
      },
      "source": [
        "tupl[:4]"
      ],
      "execution_count": null,
      "outputs": []
    },
    {
      "cell_type": "code",
      "metadata": {
        "id": "TeT5RXH1R6Gv"
      },
      "source": [
        "dm3 = (\"asli\", 5, 8, \"september\")\n",
        "dm3.index(\"september\")"
      ],
      "execution_count": null,
      "outputs": []
    },
    {
      "cell_type": "code",
      "metadata": {
        "id": "wRks9wXwSRhJ"
      },
      "source": [
        "dm3.count(5)\n"
      ],
      "execution_count": null,
      "outputs": []
    },
    {
      "cell_type": "code",
      "metadata": {
        "id": "Bo_JC5jkSWMf"
      },
      "source": [
        "dm4 = (\"apple\",\"pear\",\"strawberry\")\n",
        "\n",
        "dm4[0] = \"cherry\"\n",
        "\n",
        "print(dm4)"
      ],
      "execution_count": null,
      "outputs": []
    },
    {
      "cell_type": "code",
      "metadata": {
        "id": "twLyvUivSoBr"
      },
      "source": [
        "dm4.remove(\"pear\")"
      ],
      "execution_count": null,
      "outputs": []
    }
  ]
}
